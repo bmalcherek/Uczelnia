{
 "cells": [
  {
   "cell_type": "code",
   "execution_count": 10,
   "metadata": {},
   "outputs": [],
   "source": [
    "from sympy.interactive import printing"
   ]
  },
  {
   "cell_type": "code",
   "execution_count": 11,
   "metadata": {},
   "outputs": [],
   "source": [
    "printing.init_printing(use_latex=True)"
   ]
  },
  {
   "cell_type": "code",
   "execution_count": 13,
   "metadata": {},
   "outputs": [],
   "source": [
    "from sympy import *"
   ]
  },
  {
   "cell_type": "code",
   "execution_count": 15,
   "metadata": {},
   "outputs": [],
   "source": [
    "x, y, z = symbols('x y z')\n",
    "k = Symbol('k', integer=True)\n",
    "f = Function('f')"
   ]
  },
  {
   "cell_type": "code",
   "execution_count": 18,
   "metadata": {},
   "outputs": [
    {
     "data": {
      "image/png": "[encoded data removed]",
      "text/latex": [
       "$\\displaystyle \\left(x + 1\\right) \\left(x + y\\right)^{2}$"
      ],
      "text/plain": [
       "               2\n",
       "(x + 1)⋅(x + y) "
      ]
     },
     "execution_count": 18,
     "metadata": {},
     "output_type": "execute_result"
    }
   ],
   "source": [
    "eq = ((x + y) ** 2 * (x + 1))\n",
    "eq"
   ]
  },
  {
   "cell_type": "code",
   "execution_count": 20,
   "metadata": {},
   "outputs": [
    {
     "data": {
      "image/png": "[encoded data removed]",
      "text/latex": [
       "$\\displaystyle x^{3} + 2 x^{2} y + x^{2} + x y^{2} + 2 x y + y^{2}$"
      ],
      "text/plain": [
       " 3      2      2      2            2\n",
       "x  + 2⋅x ⋅y + x  + x⋅y  + 2⋅x⋅y + y "
      ]
     },
     "execution_count": 20,
     "metadata": {},
     "output_type": "execute_result"
    }
   ],
   "source": [
    "expand(eq)"
   ]
  },
  {
   "cell_type": "code",
   "execution_count": 22,
   "metadata": {},
   "outputs": [
    {
     "data": {
      "image/png": "[encoded data removed]",
      "text/latex": [
       "$\\displaystyle 1 + \\frac{x y - 1}{x} + \\frac{1}{x}$"
      ],
      "text/plain": [
       "    x⋅y - 1   1\n",
       "1 + ─────── + ─\n",
       "       x      x"
      ]
     },
     "execution_count": 22,
     "metadata": {},
     "output_type": "execute_result"
    }
   ],
   "source": [
    "a = 1/x + (x*y - 1) / x + 1\n",
    "a"
   ]
  },
  {
   "cell_type": "code",
   "execution_count": 24,
   "metadata": {},
   "outputs": [
    {
     "data": {
      "image/png": "[encoded data removed]",
      "text/latex": [
       "$\\displaystyle y + 1$"
      ],
      "text/plain": [
       "y + 1"
      ]
     },
     "execution_count": 24,
     "metadata": {},
     "output_type": "execute_result"
    }
   ],
   "source": [
    "simplify(a)"
   ]
  },
  {
   "cell_type": "code",
   "execution_count": 26,
   "metadata": {},
   "outputs": [
    {
     "data": {
      "image/png": "[encoded data removed]",
      "text/latex": [
       "$\\displaystyle x - 3 = 0$"
      ],
      "text/plain": [
       "x - 3 = 0"
      ]
     },
     "execution_count": 26,
     "metadata": {},
     "output_type": "execute_result"
    }
   ],
   "source": [
    "eq = Eq(x - 3)\n",
    "eq"
   ]
  },
  {
   "cell_type": "code",
   "execution_count": 28,
   "metadata": {},
   "outputs": [
    {
     "data": {
      "image/png": "[encoded data removed]",
      "text/latex": [
       "$\\displaystyle \\left[ 3\\right]$"
      ],
      "text/plain": [
       "[3]"
      ]
     },
     "execution_count": 28,
     "metadata": {},
     "output_type": "execute_result"
    }
   ],
   "source": [
    "solve(eq, x)"
   ]
  },
  {
   "cell_type": "code",
   "execution_count": 30,
   "metadata": {},
   "outputs": [
    {
     "data": {
      "image/png": "[encoded data removed]",
      "text/latex": [
       "$\\displaystyle \\left[ -1 - \\frac{16}{\\left(- \\frac{1}{2} - \\frac{\\sqrt{3} i}{2}\\right) \\sqrt[3]{3 \\sqrt{5937} + 405}} - \\frac{\\left(- \\frac{1}{2} - \\frac{\\sqrt{3} i}{2}\\right) \\sqrt[3]{3 \\sqrt{5937} + 405}}{3}, \\  -1 - \\frac{\\left(- \\frac{1}{2} + \\frac{\\sqrt{3} i}{2}\\right) \\sqrt[3]{3 \\sqrt{5937} + 405}}{3} - \\frac{16}{\\left(- \\frac{1}{2} + \\frac{\\sqrt{3} i}{2}\\right) \\sqrt[3]{3 \\sqrt{5937} + 405}}, \\  - \\frac{\\sqrt[3]{3 \\sqrt{5937} + 405}}{3} - \\frac{16}{\\sqrt[3]{3 \\sqrt{5937} + 405}} - 1\\right]$"
      ],
      "text/plain": [
       "⎡                                      ⎛  1   √3⋅ⅈ⎞ 3 _______________       ⎛ \n",
       "⎢                                      ⎜- ─ - ────⎟⋅╲╱ 3⋅√5937 + 405        ⎜-\n",
       "⎢                   16                 ⎝  2    2  ⎠                         ⎝ \n",
       "⎢-1 - ────────────────────────────── - ──────────────────────────────, -1 - ──\n",
       "⎢     ⎛  1   √3⋅ⅈ⎞ 3 _______________                 3                        \n",
       "⎢     ⎜- ─ - ────⎟⋅╲╱ 3⋅√5937 + 405                                           \n",
       "⎣     ⎝  2    2  ⎠                                                            \n",
       "\n",
       " 1   √3⋅ⅈ⎞ 3 _______________                                                  \n",
       " ─ + ────⎟⋅╲╱ 3⋅√5937 + 405                                      3 ___________\n",
       " 2    2  ⎠                                   16                  ╲╱ 3⋅√5937 + \n",
       "──────────────────────────── - ──────────────────────────────, - ─────────────\n",
       "            3                  ⎛  1   √3⋅ⅈ⎞ 3 _______________            3    \n",
       "                               ⎜- ─ + ────⎟⋅╲╱ 3⋅√5937 + 405                  \n",
       "                               ⎝  2    2  ⎠                                   \n",
       "\n",
       "                            ⎤\n",
       "____                        ⎥\n",
       "405            16           ⎥\n",
       "──── - ───────────────── - 1⎥\n",
       "       3 _______________    ⎥\n",
       "       ╲╱ 3⋅√5937 + 405     ⎥\n",
       "                            ⎦"
      ]
     },
     "execution_count": 30,
     "metadata": {},
     "output_type": "execute_result"
    }
   ],
   "source": [
    "eq = Eq(x**3 + 3*x**2 - 13*x + 15)\n",
    "solve(eq, x)"
   ]
  },
  {
   "cell_type": "code",
   "execution_count": null,
   "metadata": {},
   "outputs": [],
   "source": []
  }
 ],
 "metadata": {
  "kernelspec": {
   "display_name": "Python 3",
   "language": "python",
   "name": "python3"
  },
  "language_info": {
   "codemirror_mode": {
    "name": "ipython",
    "version": 3
   },
   "file_extension": ".py",
   "mimetype": "text/x-python",
   "name": "python",
   "nbconvert_exporter": "python",
   "pygments_lexer": "ipython3",
   "version": "3.7.3"
  }
 },
 "nbformat": 4,
 "nbformat_minor": 2
}
